{
 "cells": [
  {
   "cell_type": "code",
   "execution_count": 1,
   "id": "c86cf4fd-bcad-452c-ab89-732af83c6f25",
   "metadata": {},
   "outputs": [],
   "source": [
    "import pandas as pd\n",
    "import numpy as np\n",
    "import matplotlib.pyplot as plt\n",
    "import seaborn as sns\n",
    "import tensorflow as tf\n",
    "\n",
    "from tensorflow.keras.preprocessing.text import Tokenizer\n",
    "from tensorflow.keras.preprocessing.sequence import pad_sequences\n",
    "from sklearn.model_selection import train_test_split\n",
    "\n",
    "\n",
    "\n",
    "from tensorflow.keras.models import Sequential\n",
    "from tensorflow.keras.layers import Embedding, LSTM, Dense, Dropout, BatchNormalization\n",
    "\n",
    "from sklearn.metrics import f1_score, classification_report, confusion_matrix, accuracy_score"
   ]
  },
  {
   "cell_type": "markdown",
   "id": "68435385-7159-49c6-98f6-95da81ff8acf",
   "metadata": {},
   "source": [
    "#### 이미 전처리해서 중복 등을 제거한 좋은 데이터로 시작\n",
    "각 클래스는 정수인코딩 되어있고   \n",
    "협박 대화 = 0,  \n",
    "갈취 대화 = 1,  \n",
    "직장 내 괴롭힘 대화 = 2,  \n",
    "기타 괴롭힘 대화 = 3,  \n",
    "일반 = 4   "
   ]
  },
  {
   "cell_type": "code",
   "execution_count": 2,
   "id": "3446fe0f-c136-4a1b-bed4-cacaf84d1b7a",
   "metadata": {
    "scrolled": true
   },
   "outputs": [
    {
     "name": "stdout",
     "output_type": "stream",
     "text": [
      "훈련용 텍스트 개수 : 14364\n",
      "[0 3 1 2 4]\n"
     ]
    }
   ],
   "source": [
    "# train 데이터 로드\n",
    "# train_data = pd.read_csv(\"C:/Users/양자/Desktop/Hun_Works/AIFFEL_DLthon/DLThon01/CHYeom/data/train.csv\")\n",
    "# 증강된 데이터 쓰기\n",
    "train_data = pd.read_csv(\"C:/Users/양자/Desktop/Hun_Works/AIFFEL_DLthon/DLThon01/CHYeom/data/augmented_train.csv\")\n",
    "print('훈련용 텍스트 개수 :',len(train_data))\n",
    "print(train_data['class'].unique())"
   ]
  },
  {
   "cell_type": "code",
   "execution_count": 3,
   "id": "754f68a8-b94c-47f5-b38e-918875893573",
   "metadata": {},
   "outputs": [
    {
     "name": "stdout",
     "output_type": "stream",
     "text": [
      "훈련용 텍스트 개수: 14364\n",
      "클래스 종류: [0 3 1 2 4]\n",
      "텍스트 길이 통계:\n",
      "최소 길이: 34\n",
      "최대 길이: 912\n",
      "평균 길이: 203.71553884711778\n",
      "중앙값: 181.0\n",
      "표준 편차: 103.78763608113039\n"
     ]
    }
   ],
   "source": [
    "# 텍스트 길이 계산\n",
    "train_data['text_length'] = train_data['conversation'].astype(str).apply(len)\n",
    "\n",
    "# 길이 통계 출력\n",
    "print(\"훈련용 텍스트 개수:\", len(train_data))\n",
    "print(\"클래스 종류:\", train_data['class'].unique())\n",
    "\n",
    "print(\"텍스트 길이 통계:\")\n",
    "print(\"최소 길이:\", train_data['text_length'].min())\n",
    "print(\"최대 길이:\", train_data['text_length'].max())\n",
    "print(\"평균 길이:\", train_data['text_length'].mean())\n",
    "print(\"중앙값:\", train_data['text_length'].median())\n",
    "print(\"표준 편차:\", train_data['text_length'].std())\n",
    "\n",
    "# 길이 분포 히스토그램 시각화\n",
    "import matplotlib.pyplot as plt"
   ]
  },
  {
   "cell_type": "code",
   "execution_count": 4,
   "id": "aed20850-f359-47af-8b83-ab64b6190d05",
   "metadata": {},
   "outputs": [],
   "source": [
    "tokenizer = Tokenizer(num_words=10000)"
   ]
  },
  {
   "cell_type": "code",
   "execution_count": 5,
   "id": "04f8b426-2606-439f-ad98-406450c749f6",
   "metadata": {},
   "outputs": [],
   "source": [
    "tokenizer.fit_on_texts(train_data['conversation'])\n",
    "\n",
    "max_len = int(217 + 1.5 * 108) # 평균 + 1.5 * 표준편차 한 것 \n",
    "\n",
    "train_X = tokenizer.texts_to_sequences(train_data['conversation'])\n",
    "train_X = pad_sequences(train_X, maxlen=max_len, padding='pre')\n",
    "train_y = train_data['class'].values"
   ]
  },
  {
   "cell_type": "code",
   "execution_count": 6,
   "id": "fe831183-e6c0-450b-bb59-789e9fd83db6",
   "metadata": {},
   "outputs": [],
   "source": [
    "train_X, val_X, train_y, val_y = train_test_split(train_X, train_y, test_size=0.2, random_state=42)"
   ]
  },
  {
   "cell_type": "code",
   "execution_count": 7,
   "id": "9fcb51d2-dea7-49b5-80db-dfb941cd74fa",
   "metadata": {},
   "outputs": [
    {
     "name": "stdout",
     "output_type": "stream",
     "text": [
      "training data size: 11491\n",
      "validation data size: 2873\n"
     ]
    }
   ],
   "source": [
    "print(f\"training data size: {len(train_X)}\")\n",
    "print(f\"validation data size: {len(val_X)}\")"
   ]
  },
  {
   "cell_type": "markdown",
   "id": "b638109e-9f2c-4cca-953d-0d46f99c4a38",
   "metadata": {},
   "source": [
    "# LSTM 모델 구성하기"
   ]
  },
  {
   "cell_type": "code",
   "execution_count": 8,
   "id": "e60e2282-d310-4de3-8eb4-ef823ddd6a5b",
   "metadata": {},
   "outputs": [],
   "source": [
    "vocab_size = 10000 # sqrt(10000) = 100\n",
    "embedding_dim = 128"
   ]
  },
  {
   "cell_type": "code",
   "execution_count": 9,
   "id": "5b85c9b0-8f5a-44ee-b072-773115bc6b7b",
   "metadata": {},
   "outputs": [
    {
     "name": "stdout",
     "output_type": "stream",
     "text": [
      "Model: \"sequential\"\n",
      "_________________________________________________________________\n",
      " Layer (type)                Output Shape              Param #   \n",
      "=================================================================\n",
      " embedding (Embedding)       (None, 379, 128)          1280000   \n",
      "                                                                 \n",
      " lstm (LSTM)                 (None, 379, 128)          131584    \n",
      "                                                                 \n",
      " dropout (Dropout)           (None, 379, 128)          0         \n",
      "                                                                 \n",
      " lstm_1 (LSTM)               (None, 379, 64)           49408     \n",
      "                                                                 \n",
      " dropout_1 (Dropout)         (None, 379, 64)           0         \n",
      "                                                                 \n",
      " lstm_2 (LSTM)               (None, 32)                12416     \n",
      "                                                                 \n",
      " dropout_2 (Dropout)         (None, 32)                0         \n",
      "                                                                 \n",
      " dense (Dense)               (None, 64)                2112      \n",
      "                                                                 \n",
      " batch_normalization (BatchN  (None, 64)               256       \n",
      " ormalization)                                                   \n",
      "                                                                 \n",
      " dropout_3 (Dropout)         (None, 64)                0         \n",
      "                                                                 \n",
      " dense_1 (Dense)             (None, 5)                 325       \n",
      "                                                                 \n",
      "=================================================================\n",
      "Total params: 1,476,101\n",
      "Trainable params: 1,475,973\n",
      "Non-trainable params: 128\n",
      "_________________________________________________________________\n"
     ]
    }
   ],
   "source": [
    "model = Sequential()\n",
    "\n",
    "model.add(Embedding(input_dim=vocab_size, output_dim=embedding_dim, input_length=max_len))\n",
    "\n",
    "model.add(LSTM(128, return_sequences=True))\n",
    "model.add(Dropout(0.5))\n",
    "          \n",
    "model.add(LSTM(64, return_sequences=True))\n",
    "model.add(Dropout(0.5))\n",
    "\n",
    "model.add(LSTM(32))\n",
    "model.add(Dropout(0.5))\n",
    "\n",
    "model.add(Dense(64, activation=\"relu\"))\n",
    "model.add(BatchNormalization())\n",
    "model.add(Dropout(0.5))\n",
    "\n",
    "model.add(Dense(5, activation=\"softmax\"))\n",
    "\n",
    "model.summary()"
   ]
  },
  {
   "cell_type": "code",
   "execution_count": 10,
   "id": "518d761f-8e33-4ad0-9af5-e442e5691763",
   "metadata": {},
   "outputs": [],
   "source": [
    "# 모델 컴파일\n",
    "model.compile(optimizer=\"adam\", loss=\"sparse_categorical_crossentropy\", metrics=[\"accuracy\"])"
   ]
  },
  {
   "cell_type": "code",
   "execution_count": 11,
   "id": "d86ad7e6-1cab-47b7-aeb7-e8dde43902aa",
   "metadata": {},
   "outputs": [],
   "source": [
    "from tensorflow.keras.callbacks import EarlyStopping\n",
    "es = EarlyStopping(monitor='val_loss', patience=2, restore_best_weights=True)"
   ]
  },
  {
   "cell_type": "code",
   "execution_count": 12,
   "id": "dbd6201d-47bb-46df-bb85-e09f06bba2b1",
   "metadata": {},
   "outputs": [
    {
     "name": "stdout",
     "output_type": "stream",
     "text": [
      "Epoch 1/10\n",
      "180/180 [==============================] - 28s 118ms/step - loss: 0.8933 - accuracy: 0.6277 - val_loss: 0.8950 - val_accuracy: 0.8653\n",
      "Epoch 2/10\n",
      "180/180 [==============================] - 20s 109ms/step - loss: 0.2590 - accuracy: 0.9177 - val_loss: 0.2504 - val_accuracy: 0.9158\n",
      "Epoch 3/10\n",
      "180/180 [==============================] - 20s 111ms/step - loss: 0.1092 - accuracy: 0.9685 - val_loss: 0.1447 - val_accuracy: 0.9589\n",
      "Epoch 4/10\n",
      "180/180 [==============================] - 20s 109ms/step - loss: 0.0476 - accuracy: 0.9880 - val_loss: 0.1429 - val_accuracy: 0.9676\n",
      "Epoch 5/10\n",
      "180/180 [==============================] - 21s 115ms/step - loss: 0.0427 - accuracy: 0.9905 - val_loss: 0.1476 - val_accuracy: 0.9655\n",
      "Epoch 6/10\n",
      "180/180 [==============================] - 20s 112ms/step - loss: 0.0329 - accuracy: 0.9917 - val_loss: 0.1521 - val_accuracy: 0.9676\n"
     ]
    }
   ],
   "source": [
    "history = model.fit(\n",
    "    train_X, train_y,\n",
    "    batch_size=64,\n",
    "    epochs=10,\n",
    "    validation_data=(val_X, val_y),\n",
    "    callbacks=[es]\n",
    ")"
   ]
  },
  {
   "cell_type": "code",
   "execution_count": 13,
   "id": "86b2936f-9253-4b5c-845d-0f0733ff4db9",
   "metadata": {},
   "outputs": [
    {
     "data": {
      "image/png": "[encoded data removed]",
      "text/plain": [
       "<Figure size 800x500 with 1 Axes>"
      ]
     },
     "metadata": {},
     "output_type": "display_data"
    }
   ],
   "source": [
    "# 손실 그래프\n",
    "plt.figure(figsize=(8,5))\n",
    "plt.plot(history.history['loss'], label=\"Train Loss\", color='blue')\n",
    "plt.plot(history.history['val_loss'], label=\"Validation Loss\", color='red', linestyle=\"dashed\")\n",
    "\n",
    "plt.xlabel(\"Epochs\")\n",
    "plt.ylabel(\"Loss\")\n",
    "plt.title(\"Training & Validation Loss\")\n",
    "plt.legend()\n",
    "plt.grid(True, linestyle=\"--\", alpha=0.5)\n",
    "plt.show()\n"
   ]
  },
  {
   "cell_type": "code",
   "execution_count": 14,
   "id": "752afde6-3cb2-4ab5-b0c4-837f4edb92be",
   "metadata": {},
   "outputs": [
    {
     "data": {
      "image/png": "[encoded data removed]",
      "text/plain": [
       "<Figure size 800x500 with 1 Axes>"
      ]
     },
     "metadata": {},
     "output_type": "display_data"
    }
   ],
   "source": [
    "# 정확도 그래프\n",
    "plt.figure(figsize=(8,5))\n",
    "plt.plot(history.history['accuracy'], label=\"Train accuracy\", color='blue')\n",
    "plt.plot(history.history['val_accuracy'], label=\"Validation accuracy\", color='red', linestyle=\"dashed\")\n",
    "\n",
    "plt.xlabel(\"Epochs\")\n",
    "plt.ylabel(\"accuracy\")\n",
    "plt.title(\"Training & Validation accuracy\")\n",
    "plt.legend()\n",
    "plt.grid(True, linestyle=\"--\", alpha=0.5)\n",
    "plt.show()\n"
   ]
  },
  {
   "cell_type": "code",
   "execution_count": 15,
   "id": "cf0c7fd8-cf21-41b3-a2c1-ef4d5de4c550",
   "metadata": {},
   "outputs": [
    {
     "name": "stdout",
     "output_type": "stream",
     "text": [
      "360/360 [==============================] - 15s 42ms/step - loss: 0.0175 - accuracy: 0.9952\n",
      "훈련 정확도: 0.9952\n"
     ]
    }
   ],
   "source": [
    "print(\"훈련 정확도: %.4f\" % (model.evaluate(train_X, train_y)[1]))"
   ]
  },
  {
   "cell_type": "code",
   "execution_count": 16,
   "id": "feffd233-3dd4-4c54-b49b-bcdbe623941f",
   "metadata": {},
   "outputs": [
    {
     "name": "stdout",
     "output_type": "stream",
     "text": [
      "90/90 [==============================] - 5s 41ms/step\n"
     ]
    }
   ],
   "source": [
    "# 모델을 사용하여 예측 수행\n",
    "val_predictions = np.argmax(model.predict(val_X), axis=-1)"
   ]
  },
  {
   "cell_type": "code",
   "execution_count": 17,
   "id": "99dedddd-f9e9-4313-911c-80e79743fc8e",
   "metadata": {},
   "outputs": [
    {
     "name": "stdout",
     "output_type": "stream",
     "text": [
      "F1 Score: 0.9673853839018559\n",
      "\n"
     ]
    }
   ],
   "source": [
    "# f1 score\n",
    "f1 = f1_score(val_y, val_predictions, average='macro')\n",
    "print(f\"F1 Score: {f1}\\n\")"
   ]
  },
  {
   "cell_type": "code",
   "execution_count": 18,
   "id": "e49ced7e-0537-4cda-9d80-ea0bb5b0f3bc",
   "metadata": {},
   "outputs": [
    {
     "name": "stdout",
     "output_type": "stream",
     "text": [
      "              precision    recall  f1-score   support\n",
      "\n",
      "           0       0.99      0.91      0.94       524\n",
      "           1       0.94      0.98      0.96       550\n",
      "           2       0.97      0.99      0.98       628\n",
      "           3       0.95      0.96      0.96       632\n",
      "           4       1.00      1.00      1.00       539\n",
      "\n",
      "    accuracy                           0.97      2873\n",
      "   macro avg       0.97      0.97      0.97      2873\n",
      "weighted avg       0.97      0.97      0.97      2873\n",
      "\n"
     ]
    }
   ],
   "source": [
    "# classification report\n",
    "report = classification_report(val_y, val_predictions)\n",
    "print(report)"
   ]
  },
  {
   "cell_type": "code",
   "execution_count": 19,
   "id": "adf708a4-aea1-43a5-9962-aabf5478194b",
   "metadata": {},
   "outputs": [
    {
     "data": {
      "image/png": "[encoded data removed]",
      "text/plain": [
       "<Figure size 800x800 with 2 Axes>"
      ]
     },
     "metadata": {},
     "output_type": "display_data"
    }
   ],
   "source": [
    "# confusion matrix 시각화\n",
    "def plot_confusion_matrix(y_true, y_pred, classes, cmap=plt.cm.Blues):\n",
    "    cm = confusion_matrix(y_true, y_pred)\n",
    "    cm_norm = cm.astype('float') / cm.sum(axis=1)[:, np.newaxis]\n",
    "    \n",
    "    plt.figure(figsize=(8, 8))\n",
    "    sns.heatmap(cm_norm, annot=cm, fmt='g', cmap=cmap,\n",
    "                xticklabels=classes, yticklabels=classes)\n",
    "    plt.xlabel('Predicted label')\n",
    "    plt.ylabel('True label')\n",
    "    plt.title('Confusion Matrix')\n",
    "    plt.show()\n",
    "\n",
    "# 협박, 갈취, 직장, 기타, 일반\n",
    "classes = [\"class_0\", \"class_1\", \"class_2\", \"class_3\", \"class_4\"]\n",
    "plot_confusion_matrix(val_y, val_predictions, classes)"
   ]
  },
  {
   "cell_type": "code",
   "execution_count": 20,
   "id": "a56ba910-58fd-409f-97e1-3a5fbe3701c6",
   "metadata": {},
   "outputs": [],
   "source": [
    "def class_predict(sentence):\n",
    "    sentence = tokenizer.texts_to_sequences([sentence])\n",
    "    sentence = pad_sequences(sentence, maxlen=max_len)\n",
    "\n",
    "    score = model.predict(sentence)[0]\n",
    "\n",
    "    class_names = ['협박', '갈취', '직장 내 괴롭힘', '기타 괴롭힘', '일반']\n",
    "    max_score_index = np.argmax(score)\n",
    "    predicted_class = class_names[max_score_index]\n",
    "    probability = score[max_score_index] * 100  \n",
    "\n",
    "    print(f\"{score * 100}%\")\n",
    "    print(\"해당 문장은 {:.2f}%의 확률로 '{}'!\".format(probability, predicted_class))"
   ]
  },
  {
   "cell_type": "code",
   "execution_count": 42,
   "id": "c121441b-3342-46be-b073-3a75da689300",
   "metadata": {},
   "outputs": [
    {
     "name": "stdout",
     "output_type": "stream",
     "text": [
      "1/1 [==============================] - 0s 72ms/step\n",
      "[1.1004999e-04 2.2360880e-04 9.9999001e+01 3.7089060e-04 2.9878932e-04]%\n",
      "해당 문장은 100.00%의 확률로 '직장 내 괴롭힘'!\n"
     ]
    }
   ],
   "source": [
    "class_predict(\"회사에서 일 안하고 대체 뭐해?  김 대리 같은 사람들이 있으니까 우리 회사가 이 모양 이 꼴 아니야\")"
   ]
  },
  {
   "cell_type": "code",
   "execution_count": 40,
   "id": "9cd699bc-c1cd-4735-a54e-836161d45d05",
   "metadata": {},
   "outputs": [
    {
     "name": "stdout",
     "output_type": "stream",
     "text": [
      "1/1 [==============================] - 0s 64ms/step\n",
      "[ 0.2300957   0.22831696  3.718369   11.0270605  84.79616   ]%\n",
      "해당 문장은 84.80%의 확률로 '일반'!\n"
     ]
    }
   ],
   "source": [
    "class_predict(\"오늘 뭐 했어? 나는 김치 볶음밥 먹었어 삼겹살도 맛있다 사랑해 잘 자고 좋은 꿈 꿔 내일 봐\")"
   ]
  },
  {
   "cell_type": "code",
   "execution_count": 36,
   "id": "56b8682b-c03f-493c-85b7-4d90d9f2ae51",
   "metadata": {},
   "outputs": [
    {
     "name": "stdout",
     "output_type": "stream",
     "text": [
      "1/1 [==============================] - 0s 73ms/step\n",
      "[ 0.8298817  0.5625348  3.0456614 81.01042   14.551507 ]%\n",
      "해당 문장은 81.01%의 확률로 '기타 괴롭힘'!\n"
     ]
    }
   ],
   "source": [
    "class_predict(\"니가 그렇게 싸움을 잘 해? 나랑 맞짱뜨자\")"
   ]
  },
  {
   "cell_type": "code",
   "execution_count": 24,
   "id": "584dc08e-35a4-4fec-abbb-1c94fb0ec6b5",
   "metadata": {},
   "outputs": [
    {
     "name": "stdout",
     "output_type": "stream",
     "text": [
      "1/1 [==============================] - 0s 48ms/step\n",
      "[1.5628245e+00 9.8263329e+01 2.2507397e-02 1.4264101e-01 8.7065278e-03]%\n",
      "해당 문장은 98.26%의 확률로 '갈취'!\n"
     ]
    }
   ],
   "source": [
    "class_predict(\"아가씨 담배한갑주소 네 4500원입니다 어 네 지갑어디갔지 에이 버스에서 잃어버렸나보네 그럼 취소할까요 아가씨 내 여기단골이니 담에 갖다줄께 저도 알바생이라 외상안됩니다 아따 누가 떼먹는다고 그러나 갖다준다고 안됩니다 자꾸이럼 경찰불러요 아가씨 담배피는교 그건 왜 물으세요 그람 아가씨 담배 한대만 빌립시다 내 지금 지갑도 잃어버리고 기분이 그래서 그러니 여기요  아따 주는김에 한개더 주면 되겠네\")"
   ]
  },
  {
   "cell_type": "code",
   "execution_count": 25,
   "id": "5e41d4dc-60eb-4e10-929c-4f64225b9786",
   "metadata": {},
   "outputs": [],
   "source": [
    "test_df = pd.read_csv(\"C:/Users/양자/Desktop/Hun_Works/AIFFEL_DLthon/DLThon01/CHYeom/data/test.csv\")"
   ]
  },
  {
   "cell_type": "code",
   "execution_count": 26,
   "id": "f454d036-6a38-4d74-b334-654faa8a080e",
   "metadata": {
    "scrolled": true
   },
   "outputs": [
    {
     "data": {
      "text/html": [
       "<div>\n",
       "<style scoped>\n",
       "    .dataframe tbody tr th:only-of-type {\n",
       "        vertical-align: middle;\n",
       "    }\n",
       "\n",
       "    .dataframe tbody tr th {\n",
       "        vertical-align: top;\n",
       "    }\n",
       "\n",
       "    .dataframe thead th {\n",
       "        text-align: right;\n",
       "    }\n",
       "</style>\n",
       "<table border=\"1\" class=\"dataframe\">\n",
       "  <thead>\n",
       "    <tr style=\"text-align: right;\">\n",
       "      <th></th>\n",
       "      <th>idx</th>\n",
       "      <th>text</th>\n",
       "    </tr>\n",
       "  </thead>\n",
       "  <tbody>\n",
       "    <tr>\n",
       "      <th>0</th>\n",
       "      <td>t_000</td>\n",
       "      <td>아가씨 담배한갑주소 네 4500원입니다 어 네 지갑어디갔지 에이 버스에서 잃어버렸나...</td>\n",
       "    </tr>\n",
       "    <tr>\n",
       "      <th>1</th>\n",
       "      <td>t_001</td>\n",
       "      <td>우리팀에서 다른팀으로 갈 사람 없나? 그럼 영지씨가 가는건 어때?  네? 제가요? ...</td>\n",
       "    </tr>\n",
       "    <tr>\n",
       "      <th>2</th>\n",
       "      <td>t_002</td>\n",
       "      <td>너 오늘 그게 뭐야 네 제가 뭘 잘못했나요.? 제대로 좀 하지 네 똑바로 좀 하지 ...</td>\n",
       "    </tr>\n",
       "    <tr>\n",
       "      <th>3</th>\n",
       "      <td>t_003</td>\n",
       "      <td>이거 들어바 와 이 노래 진짜 좋다 그치 요즘 이 것만 들어 진짜 너무 좋다 내가 ...</td>\n",
       "    </tr>\n",
       "    <tr>\n",
       "      <th>4</th>\n",
       "      <td>t_004</td>\n",
       "      <td>아무튼 앞으로 니가 내 와이파이야. .응 와이파이 온. 켰어. 반말? 주인님이라고도...</td>\n",
       "    </tr>\n",
       "  </tbody>\n",
       "</table>\n",
       "</div>"
      ],
      "text/plain": [
       "     idx                                               text\n",
       "0  t_000  아가씨 담배한갑주소 네 4500원입니다 어 네 지갑어디갔지 에이 버스에서 잃어버렸나...\n",
       "1  t_001  우리팀에서 다른팀으로 갈 사람 없나? 그럼 영지씨가 가는건 어때?  네? 제가요? ...\n",
       "2  t_002  너 오늘 그게 뭐야 네 제가 뭘 잘못했나요.? 제대로 좀 하지 네 똑바로 좀 하지 ...\n",
       "3  t_003  이거 들어바 와 이 노래 진짜 좋다 그치 요즘 이 것만 들어 진짜 너무 좋다 내가 ...\n",
       "4  t_004  아무튼 앞으로 니가 내 와이파이야. .응 와이파이 온. 켰어. 반말? 주인님이라고도..."
      ]
     },
     "execution_count": 26,
     "metadata": {},
     "output_type": "execute_result"
    }
   ],
   "source": [
    "test_df.head()"
   ]
  },
  {
   "cell_type": "code",
   "execution_count": 50,
   "id": "91ad6956-aad0-4216-a235-1f74c56c51f8",
   "metadata": {},
   "outputs": [],
   "source": [
    "def get_class(sentence):\n",
    "    sentence = tokenizer.texts_to_sequences([sentence])\n",
    "    sentence = pad_sequences(sentence, maxlen=max_len)\n",
    "\n",
    "    score = model.predict(sentence, verbose=0)[0]\n",
    "    \n",
    "    max_score_index = np.argmax(score)\n",
    "    class_names = ['0', '1', '2', '3', '4']\n",
    "    predicted_class = class_names[max_score_index]\n",
    "    return predicted_class"
   ]
  },
  {
   "cell_type": "code",
   "execution_count": 51,
   "id": "d15fcad7-88eb-44c4-8f7a-fe3e11cad400",
   "metadata": {},
   "outputs": [],
   "source": [
    "test_df['target'] = test_df['text'].apply(get_class)"
   ]
  },
  {
   "cell_type": "code",
   "execution_count": 52,
   "id": "689804f0-63da-46f8-90f0-126ec416464f",
   "metadata": {},
   "outputs": [
    {
     "name": "stdout",
     "output_type": "stream",
     "text": [
      "predicted_class\n",
      "3    156\n",
      "2    133\n",
      "1    115\n",
      "0     80\n",
      "4     16\n",
      "Name: count, dtype: int64\n"
     ]
    }
   ],
   "source": [
    "# 클래스별 개수 세기\n",
    "class_counts = test_df['predicted_class'].value_counts()\n",
    "\n",
    "# 결과 출력\n",
    "print(class_counts)"
   ]
  },
  {
   "cell_type": "code",
   "execution_count": 53,
   "id": "d935f534-d7c7-4e3a-8be4-b3e4180086be",
   "metadata": {},
   "outputs": [
    {
     "data": {
      "text/plain": [
       "'아가씨 담배한갑주소 네 4500원입니다 어 네 지갑어디갔지 에이 버스에서 잃어버렸나보네 그럼 취소할까요 아가씨 내 여기단골이니 담에 갖다줄께 저도 알바생이라 외상안됩니다 아따 누가 떼먹는다고 그러나 갖다준다고 안됩니다 자꾸이럼 경찰불러요 아가씨 담배피는교 그건 왜 물으세요 그람 아가씨 담배 한대만 빌립시다 내 지금 지갑도 잃어버리고 기분이 그래서 그러니 여기요  아따 주는김에 한개더 주면 되겠네'"
      ]
     },
     "execution_count": 53,
     "metadata": {},
     "output_type": "execute_result"
    }
   ],
   "source": [
    "test_df['text'][0]"
   ]
  },
  {
   "cell_type": "code",
   "execution_count": 54,
   "id": "b846321a-3d4f-4243-8eeb-ed539748814f",
   "metadata": {},
   "outputs": [],
   "source": [
    "submission = test_df[['idx', 'target']].copy()"
   ]
  },
  {
   "cell_type": "code",
   "execution_count": 55,
   "id": "ef4614a0-3131-41e3-bbd7-a25cd1aa1fd5",
   "metadata": {},
   "outputs": [
    {
     "name": "stdout",
     "output_type": "stream",
     "text": [
      "     idx target\n",
      "0  t_000      1\n",
      "1  t_001      2\n",
      "2  t_002      2\n",
      "3  t_003      3\n",
      "4  t_004      3\n"
     ]
    }
   ],
   "source": [
    "print(submission.head())"
   ]
  },
  {
   "cell_type": "code",
   "execution_count": 56,
   "id": "3ba337c4-2f02-4700-818e-309fa6b29989",
   "metadata": {},
   "outputs": [],
   "source": [
    "submission.to_csv(\"C:/Users/양자/Desktop/Hun_Works/AIFFEL_DLthon/DLThon01/CHYeom/submission.csv\", index=False)"
   ]
  },
  {
   "cell_type": "code",
   "execution_count": null,
   "id": "837bcc18-34c3-45fe-b8a8-cbcdb6d13a2b",
   "metadata": {},
   "outputs": [],
   "source": []
  }
 ],
 "metadata": {
  "kernelspec": {
   "display_name": "Python 3 (ipykernel)",
   "language": "python",
   "name": "python3"
  },
  "language_info": {
   "codemirror_mode": {
    "name": "ipython",
    "version": 3
   },
   "file_extension": ".py",
   "mimetype": "text/x-python",
   "name": "python",
   "nbconvert_exporter": "python",
   "pygments_lexer": "ipython3",
   "version": "3.10.12"
  }
 },
 "nbformat": 4,
 "nbformat_minor": 5
}
