{
 "cells": [
  {
   "cell_type": "code",
   "execution_count": 1,
   "id": "1382c380-90ac-4431-a73c-0b7c68489077",
   "metadata": {},
   "outputs": [
    {
     "name": "stderr",
     "output_type": "stream",
     "text": [
      "C:\\Anaconda3\\lib\\site-packages\\paramiko\\pkey.py:82: CryptographyDeprecationWarning: TripleDES has been moved to cryptography.hazmat.decrepit.ciphers.algorithms.TripleDES and will be removed from this module in 48.0.0.\n",
      "  \"cipher\": algorithms.TripleDES,\n",
      "C:\\Anaconda3\\lib\\site-packages\\paramiko\\transport.py:219: CryptographyDeprecationWarning: Blowfish has been moved to cryptography.hazmat.decrepit.ciphers.algorithms.Blowfish and will be removed from this module in 45.0.0.\n",
      "  \"class\": algorithms.Blowfish,\n",
      "C:\\Anaconda3\\lib\\site-packages\\paramiko\\transport.py:243: CryptographyDeprecationWarning: TripleDES has been moved to cryptography.hazmat.decrepit.ciphers.algorithms.TripleDES and will be removed from this module in 48.0.0.\n",
      "  \"class\": algorithms.TripleDES,\n"
     ]
    }
   ],
   "source": [
    "import pandas as pd\n",
    "import numpy as np\n",
    "import matplotlib.pyplot as plt\n",
    "import seaborn as sns\n",
    "import tensorflow as tf\n",
    "\n",
    "from tensorflow.keras.preprocessing.text import Tokenizer\n",
    "from tensorflow.keras.preprocessing.sequence import pad_sequences\n",
    "from sklearn.model_selection import train_test_split\n",
    "\n",
    "\n",
    "\n",
    "from tensorflow.keras.models import Sequential\n",
    "from tensorflow.keras import regularizers\n",
    "from tensorflow.keras.layers import Embedding, Dense, Dropout, Conv1D, GlobalMaxPooling1D, BatchNormalization\n",
    "\n",
    "from sklearn.metrics import f1_score, classification_report, confusion_matrix, accuracy_score\n",
    "\n",
    "from gensim.models import Word2Vec\n",
    "from konlpy.tag import Okt\n",
    "\n",
    "import pickle\n",
    "from tensorflow.keras.optimizers import Adam"
   ]
  },
  {
   "cell_type": "code",
   "execution_count": 2,
   "id": "7ba98bbb-e6bc-4a29-869f-868dc1ba1a45",
   "metadata": {},
   "outputs": [],
   "source": [
    "train_data = pd.read_csv(\"C:/Users/양자/Desktop/Hun_Works/AIFFEL_DLthon/DLThon01/CHYeom/data/syn_sent_augment.csv\")"
   ]
  },
  {
   "cell_type": "markdown",
   "id": "2b4ccbd2-7fa2-4ae1-81aa-7ffdaf8363b5",
   "metadata": {},
   "source": [
    "#### 이미 전처리해서 중복 등을 제거한 좋은 데이터로 시작\n",
    "각 클래스는 정수인코딩 되어있고   \n",
    "협박 대화 = 0,  \n",
    "갈취 대화 = 1,  \n",
    "직장 내 괴롭힘 대화 = 2,  \n",
    "기타 괴롭힘 대화 = 3,  \n",
    "일반 = 4   "
   ]
  },
  {
   "cell_type": "code",
   "execution_count": 3,
   "id": "b04859a3-c8b7-4a51-95e9-9cc45508e3ba",
   "metadata": {
    "scrolled": true
   },
   "outputs": [
    {
     "data": {
      "text/html": [
       "<div>\n",
       "<style scoped>\n",
       "    .dataframe tbody tr th:only-of-type {\n",
       "        vertical-align: middle;\n",
       "    }\n",
       "\n",
       "    .dataframe tbody tr th {\n",
       "        vertical-align: top;\n",
       "    }\n",
       "\n",
       "    .dataframe thead th {\n",
       "        text-align: right;\n",
       "    }\n",
       "</style>\n",
       "<table border=\"1\" class=\"dataframe\">\n",
       "  <thead>\n",
       "    <tr style=\"text-align: right;\">\n",
       "      <th></th>\n",
       "      <th>conversation</th>\n",
       "      <th>class</th>\n",
       "    </tr>\n",
       "  </thead>\n",
       "  <tbody>\n",
       "    <tr>\n",
       "      <th>0</th>\n",
       "      <td>너 혼자 . 너와 휘말리게 죽여버릴거야 죽여줄까 네 . . 가족까지 . 도와주세요 ...</td>\n",
       "      <td>0</td>\n",
       "    </tr>\n",
       "    <tr>\n",
       "      <th>1</th>\n",
       "      <td>지금 너 스스로를 죽여달라고 애원하는 것인가 거면 ? 아닙니다 . 죄송합니다 . 죽...</td>\n",
       "      <td>0</td>\n",
       "    </tr>\n",
       "    <tr>\n",
       "      <th>2</th>\n",
       "      <td>너 스스로를 죽여달라고 애원하는 것인가 아닙니다 . 죄송합니다 . 죽을 거면 혼자 ...</td>\n",
       "      <td>0</td>\n",
       "    </tr>\n",
       "    <tr>\n",
       "      <th>3</th>\n",
       "      <td>터지면 . 판단은 . 길동경찰서입니다 진정하세요 ? 말이야 길동경찰서에도 . 한번만...</td>\n",
       "      <td>0</td>\n",
       "    </tr>\n",
       "    <tr>\n",
       "      <th>4</th>\n",
       "      <td>길동경찰서입니다 . 시 분 마트에 폭발물을 설치할거다 . 네 ? 폭발물이 똑바로 들...</td>\n",
       "      <td>0</td>\n",
       "    </tr>\n",
       "  </tbody>\n",
       "</table>\n",
       "</div>"
      ],
      "text/plain": [
       "                                        conversation  class\n",
       "0  너 혼자 . 너와 휘말리게 죽여버릴거야 죽여줄까 네 . . 가족까지 . 도와주세요 ...      0\n",
       "1  지금 너 스스로를 죽여달라고 애원하는 것인가 거면 ? 아닙니다 . 죄송합니다 . 죽...      0\n",
       "2  너 스스로를 죽여달라고 애원하는 것인가 아닙니다 . 죄송합니다 . 죽을 거면 혼자 ...      0\n",
       "3  터지면 . 판단은 . 길동경찰서입니다 진정하세요 ? 말이야 길동경찰서에도 . 한번만...      0\n",
       "4  길동경찰서입니다 . 시 분 마트에 폭발물을 설치할거다 . 네 ? 폭발물이 똑바로 들...      0"
      ]
     },
     "execution_count": 3,
     "metadata": {},
     "output_type": "execute_result"
    }
   ],
   "source": [
    "train_data.head()"
   ]
  },
  {
   "cell_type": "markdown",
   "id": "43acbf18-a9dd-4d02-9bbd-4a8f89367989",
   "metadata": {},
   "source": [
    "#### 한국어 형태소 분석 후 word2vec"
   ]
  },
  {
   "cell_type": "code",
   "execution_count": 4,
   "id": "ca36dc73-5f36-4d3e-addc-bdbf09a7e28b",
   "metadata": {},
   "outputs": [],
   "source": [
    "okt=Okt()\n",
    "\n",
    "tokenized_data = [okt.morphs(sentence) for sentence in train_data['conversation']]\n",
    "\n",
    "embedding_model = Word2Vec(sentences=tokenized_data,\n",
    "\t\t\t\t\t\t\tsg = 1,\n",
    "                            vector_size = 128,\n",
    "                            window = 10,\n",
    "                            min_count = 1,\n",
    "                            workers = 4)"
   ]
  },
  {
   "cell_type": "code",
   "execution_count": 5,
   "id": "1c3891c2-ce4f-4dd5-b79e-8a5de764a51a",
   "metadata": {},
   "outputs": [],
   "source": [
    "tokenizer = Tokenizer(num_words=10000)\n",
    "tokenizer.fit_on_texts(tokenized_data)\n",
    "train_X = tokenizer.texts_to_sequences(tokenized_data)"
   ]
  },
  {
   "cell_type": "code",
   "execution_count": 6,
   "id": "9d12ee0f-87e4-4a0a-bb83-befcd3eb0d7a",
   "metadata": {},
   "outputs": [
    {
     "data": {
      "image/png": "[encoded data removed]",
      "text/plain": [
       "<Figure size 1000x600 with 1 Axes>"
      ]
     },
     "metadata": {},
     "output_type": "display_data"
    },
    {
     "name": "stdout",
     "output_type": "stream",
     "text": [
      "129.0\n"
     ]
    }
   ],
   "source": [
    "# Compute token lengths\n",
    "token_lengths = [len(seq) for seq in train_X]\n",
    "\n",
    "# Compute statistics\n",
    "mean_length = np.mean(token_lengths)\n",
    "std_length = np.std(token_lengths)\n",
    "min_length = np.min(token_lengths)\n",
    "max_length = np.max(token_lengths)\n",
    "median_length = np.median(token_lengths)\n",
    "\n",
    "# Create a DataFrame for statistics\n",
    "stats_df = pd.DataFrame({\n",
    "    \"Statistic\": [\"Mean\", \"Standard Deviation\", \"Min\", \"Max\", \"Median\"],\n",
    "    \"Value\": [mean_length, std_length, min_length, max_length, median_length]\n",
    "})\n",
    "\n",
    "# Plot histogram of token lengths\n",
    "plt.figure(figsize=(10, 6))\n",
    "plt.hist(token_lengths, bins=30, edgecolor='black', alpha=0.7)\n",
    "plt.axvline(mean_length, color='r', linestyle='dashed', linewidth=1, label=f'Mean: {mean_length:.2f}')\n",
    "plt.axvline(median_length, color='g', linestyle='dashed', linewidth=1, label=f'Median: {median_length:.2f}')\n",
    "plt.xlabel(\"Token Length\")\n",
    "plt.ylabel(\"Frequency\")\n",
    "plt.title(\"Distribution of Token Lengths\")\n",
    "plt.legend()\n",
    "plt.grid(axis='y', linestyle='--', alpha=0.7)\n",
    "plt.show()\n",
    "\n",
    "print(np.percentile(token_lengths, 95))\n"
   ]
  },
  {
   "cell_type": "code",
   "execution_count": 7,
   "id": "d1f2af31-3573-4987-b57c-9403bdb917e9",
   "metadata": {},
   "outputs": [],
   "source": [
    "vocab_size=10000\n",
    "embedding_dim=256\n",
    "max_len = 150 # 평균 + 1.5 * 표준편차 한 것 \n",
    "\n",
    "train_X = tokenizer.texts_to_sequences(tokenized_data)\n",
    "train_X = pad_sequences(train_X, maxlen=max_len, padding='pre')\n",
    "train_y = train_data['class'].values"
   ]
  },
  {
   "cell_type": "code",
   "execution_count": 8,
   "id": "63774038-76ee-494e-85b6-4411d0fae96b",
   "metadata": {},
   "outputs": [],
   "source": [
    "train_X, val_X, train_y, val_y = train_test_split(train_X, train_y, test_size=0.2, random_state=42)"
   ]
  },
  {
   "cell_type": "code",
   "execution_count": 9,
   "id": "0b76ad7d-ead3-4d44-9882-3d33e009600b",
   "metadata": {
    "scrolled": true
   },
   "outputs": [
    {
     "name": "stdout",
     "output_type": "stream",
     "text": [
      "training data size: 18688\n",
      "validation data size: 4673\n"
     ]
    }
   ],
   "source": [
    "print(f\"training data size: {len(train_X)}\")\n",
    "print(f\"validation data size: {len(val_X)}\")"
   ]
  },
  {
   "cell_type": "markdown",
   "id": "56740344-1038-4e5a-9e03-0b3b26a59e84",
   "metadata": {},
   "source": [
    "### 스태킹 앙상블 기법을 활용하기 위해 kernel_size와 dropout rate이 다른 세 모델 형성"
   ]
  },
  {
   "cell_type": "code",
   "execution_count": 10,
   "id": "7cab02c6-12ca-4d60-adf4-cff677f53b56",
   "metadata": {},
   "outputs": [],
   "source": [
    "def textcnn_model(kernel_size, dropout):\n",
    "    model = Sequential()\n",
    "\n",
    "    model.add(Embedding(vocab_size, embedding_dim, input_length=max_len))\n",
    "    model.add(Conv1D(192, kernel_size=kernel_size, activation='relu', kernel_regularizer=regularizers.l2(0.005)))    \n",
    "    model.add(Dropout(dropout))\n",
    "    model.add(BatchNormalization())\n",
    "    model.add(GlobalMaxPooling1D())\n",
    "    model.add(Dense(192, activation='relu', kernel_regularizer=regularizers.l2(0.005)))\n",
    "    model.add(Dropout(dropout))\n",
    "    model.add(BatchNormalization())\n",
    "    model.add(Dense(5, activation='softmax'))\n",
    "\n",
    "    model.compile(loss='sparse_categorical_crossentropy', optimizer='adam', metrics=['accuracy'])\n",
    "    return model\n"
   ]
  },
  {
   "cell_type": "code",
   "execution_count": 11,
   "id": "d7323fc5-e831-403e-ab49-fc363ea9e2aa",
   "metadata": {
    "scrolled": true
   },
   "outputs": [
    {
     "name": "stdout",
     "output_type": "stream",
     "text": [
      "Epoch 1/15\n",
      "584/584 [==============================] - 8s 8ms/step - loss: 1.6742 - accuracy: 0.8457 - val_loss: 1.0238 - val_accuracy: 0.9371 - lr: 0.0010\n",
      "Epoch 2/15\n",
      "584/584 [==============================] - 4s 8ms/step - loss: 0.5792 - accuracy: 0.9583 - val_loss: 0.4491 - val_accuracy: 0.9655 - lr: 0.0010\n",
      "Epoch 3/15\n",
      "584/584 [==============================] - 4s 8ms/step - loss: 0.3498 - accuracy: 0.9710 - val_loss: 0.3368 - val_accuracy: 0.9658 - lr: 0.0010\n",
      "Epoch 4/15\n",
      "584/584 [==============================] - 4s 7ms/step - loss: 0.2451 - accuracy: 0.9804 - val_loss: 0.2862 - val_accuracy: 0.9649 - lr: 0.0010\n",
      "Epoch 5/15\n",
      "584/584 [==============================] - 4s 7ms/step - loss: 0.2239 - accuracy: 0.9832 - val_loss: 0.2764 - val_accuracy: 0.9626 - lr: 0.0010\n",
      "Epoch 6/15\n",
      "584/584 [==============================] - 4s 7ms/step - loss: 0.1943 - accuracy: 0.9838 - val_loss: 0.2468 - val_accuracy: 0.9694 - lr: 0.0010\n",
      "Epoch 7/15\n",
      "584/584 [==============================] - 4s 7ms/step - loss: 0.1919 - accuracy: 0.9845 - val_loss: 0.2180 - val_accuracy: 0.9790 - lr: 0.0010\n",
      "Epoch 8/15\n",
      "584/584 [==============================] - 4s 7ms/step - loss: 0.1661 - accuracy: 0.9870 - val_loss: 0.2594 - val_accuracy: 0.9628 - lr: 0.0010\n",
      "Epoch 9/15\n",
      "584/584 [==============================] - 4s 7ms/step - loss: 0.1641 - accuracy: 0.9871 - val_loss: 0.1918 - val_accuracy: 0.9771 - lr: 0.0010\n",
      "Epoch 10/15\n",
      "584/584 [==============================] - 4s 7ms/step - loss: 0.1572 - accuracy: 0.9882 - val_loss: 0.2045 - val_accuracy: 0.9752 - lr: 0.0010\n",
      "Epoch 11/15\n",
      "584/584 [==============================] - 4s 7ms/step - loss: 0.1458 - accuracy: 0.9890 - val_loss: 0.1823 - val_accuracy: 0.9820 - lr: 0.0010\n",
      "Epoch 12/15\n",
      "584/584 [==============================] - 4s 7ms/step - loss: 0.1379 - accuracy: 0.9903 - val_loss: 0.2299 - val_accuracy: 0.9636 - lr: 0.0010\n",
      "Epoch 13/15\n",
      "584/584 [==============================] - 4s 7ms/step - loss: 0.1392 - accuracy: 0.9900 - val_loss: 0.1903 - val_accuracy: 0.9769 - lr: 0.0010\n",
      "Epoch 1/15\n",
      "584/584 [==============================] - 5s 8ms/step - loss: 1.6869 - accuracy: 0.8161 - val_loss: 1.1591 - val_accuracy: 0.9281 - lr: 0.0010\n",
      "Epoch 2/15\n",
      "584/584 [==============================] - 4s 8ms/step - loss: 0.5968 - accuracy: 0.9531 - val_loss: 0.5041 - val_accuracy: 0.9587 - lr: 0.0010\n",
      "Epoch 3/15\n",
      "584/584 [==============================] - 4s 7ms/step - loss: 0.3767 - accuracy: 0.9699 - val_loss: 0.3582 - val_accuracy: 0.9724 - lr: 0.0010\n",
      "Epoch 4/15\n",
      "584/584 [==============================] - 4s 8ms/step - loss: 0.2844 - accuracy: 0.9776 - val_loss: 0.3063 - val_accuracy: 0.9715 - lr: 0.0010\n",
      "Epoch 5/15\n",
      "584/584 [==============================] - 5s 8ms/step - loss: 0.2525 - accuracy: 0.9796 - val_loss: 0.3367 - val_accuracy: 0.9632 - lr: 0.0010\n",
      "Epoch 6/15\n",
      "584/584 [==============================] - 5s 8ms/step - loss: 0.2221 - accuracy: 0.9838 - val_loss: 0.2740 - val_accuracy: 0.9698 - lr: 0.0010\n",
      "Epoch 7/15\n",
      "584/584 [==============================] - 4s 8ms/step - loss: 0.2255 - accuracy: 0.9828 - val_loss: 0.2720 - val_accuracy: 0.9713 - lr: 0.0010\n",
      "Epoch 8/15\n",
      "584/584 [==============================] - 4s 8ms/step - loss: 0.2028 - accuracy: 0.9856 - val_loss: 0.2665 - val_accuracy: 0.9690 - lr: 0.0010\n",
      "Epoch 9/15\n",
      "584/584 [==============================] - 5s 8ms/step - loss: 0.2039 - accuracy: 0.9856 - val_loss: 0.2534 - val_accuracy: 0.9720 - lr: 0.0010\n",
      "Epoch 10/15\n",
      "584/584 [==============================] - 4s 8ms/step - loss: 0.1894 - accuracy: 0.9880 - val_loss: 0.2407 - val_accuracy: 0.9730 - lr: 0.0010\n",
      "Epoch 11/15\n",
      "584/584 [==============================] - 4s 7ms/step - loss: 0.1789 - accuracy: 0.9888 - val_loss: 0.2012 - val_accuracy: 0.9827 - lr: 0.0010\n",
      "Epoch 12/15\n",
      "584/584 [==============================] - 4s 8ms/step - loss: 0.1953 - accuracy: 0.9861 - val_loss: 0.2373 - val_accuracy: 0.9788 - lr: 0.0010\n",
      "Epoch 13/15\n",
      "584/584 [==============================] - 5s 8ms/step - loss: 0.1761 - accuracy: 0.9890 - val_loss: 0.1888 - val_accuracy: 0.9835 - lr: 0.0010\n",
      "Epoch 14/15\n",
      "584/584 [==============================] - 5s 8ms/step - loss: 0.1690 - accuracy: 0.9890 - val_loss: 0.1963 - val_accuracy: 0.9803 - lr: 0.0010\n",
      "Epoch 15/15\n",
      "584/584 [==============================] - 5s 8ms/step - loss: 0.1540 - accuracy: 0.9901 - val_loss: 0.1771 - val_accuracy: 0.9827 - lr: 0.0010\n",
      "Epoch 1/15\n",
      "584/584 [==============================] - 5s 8ms/step - loss: 1.8010 - accuracy: 0.7770 - val_loss: 1.3952 - val_accuracy: 0.8185 - lr: 0.0010\n",
      "Epoch 2/15\n",
      "584/584 [==============================] - 4s 8ms/step - loss: 0.6611 - accuracy: 0.9491 - val_loss: 0.5697 - val_accuracy: 0.9604 - lr: 0.0010\n",
      "Epoch 3/15\n",
      "584/584 [==============================] - 4s 7ms/step - loss: 0.4045 - accuracy: 0.9712 - val_loss: 0.4349 - val_accuracy: 0.9617 - lr: 0.0010\n",
      "Epoch 4/15\n",
      "584/584 [==============================] - 4s 8ms/step - loss: 0.3276 - accuracy: 0.9786 - val_loss: 0.4368 - val_accuracy: 0.9435 - lr: 0.0010\n",
      "Epoch 5/15\n",
      "584/584 [==============================] - 4s 8ms/step - loss: 0.2850 - accuracy: 0.9819 - val_loss: 0.3042 - val_accuracy: 0.9784 - lr: 0.0010\n",
      "Epoch 6/15\n",
      "584/584 [==============================] - 4s 7ms/step - loss: 0.2695 - accuracy: 0.9824 - val_loss: 0.3553 - val_accuracy: 0.9685 - lr: 0.0010\n",
      "Epoch 7/15\n",
      "584/584 [==============================] - 4s 7ms/step - loss: 0.2456 - accuracy: 0.9852 - val_loss: 0.2992 - val_accuracy: 0.9722 - lr: 0.0010\n",
      "Epoch 8/15\n",
      "584/584 [==============================] - 4s 7ms/step - loss: 0.2531 - accuracy: 0.9842 - val_loss: 0.3528 - val_accuracy: 0.9634 - lr: 0.0010\n",
      "Epoch 9/15\n",
      "584/584 [==============================] - 4s 8ms/step - loss: 0.2578 - accuracy: 0.9847 - val_loss: 0.2901 - val_accuracy: 0.9638 - lr: 0.0010\n",
      "Epoch 10/15\n",
      "584/584 [==============================] - 4s 7ms/step - loss: 0.2398 - accuracy: 0.9847 - val_loss: 0.2965 - val_accuracy: 0.9634 - lr: 0.0010\n",
      "Epoch 11/15\n",
      "584/584 [==============================] - 5s 8ms/step - loss: 0.2427 - accuracy: 0.9845 - val_loss: 0.2519 - val_accuracy: 0.9790 - lr: 0.0010\n",
      "Epoch 12/15\n",
      "584/584 [==============================] - 4s 8ms/step - loss: 0.2199 - accuracy: 0.9857 - val_loss: 0.2923 - val_accuracy: 0.9690 - lr: 0.0010\n",
      "Epoch 13/15\n",
      "584/584 [==============================] - 4s 8ms/step - loss: 0.2286 - accuracy: 0.9860 - val_loss: 0.2585 - val_accuracy: 0.9767 - lr: 0.0010\n"
     ]
    }
   ],
   "source": [
    "# 모델 3개 생성\n",
    "TextCNN1 = textcnn_model(kernel_size=3, dropout=0.3)\n",
    "TextCNN2 = textcnn_model(kernel_size=4, dropout=0.4)\n",
    "TextCNN3 = textcnn_model(kernel_size=5, dropout=0.5)\n",
    "\n",
    "# callbacks\n",
    "from tensorflow.keras.callbacks import EarlyStopping, ReduceLROnPlateau\n",
    "lr = ReduceLROnPlateau(monitor='val_loss', factor=0.5, patience=3, verbose=1)\n",
    "es = EarlyStopping(monitor='val_loss', patience=2, restore_best_weights=True)\n",
    "\n",
    "# 모델 학습\n",
    "history1 = TextCNN1.fit(train_X, train_y,\n",
    "                        batch_size = 32,\n",
    "                        epochs = 15,\n",
    "                        validation_data = (val_X, val_y),\n",
    "                        callbacks=[es, lr]\n",
    "                       )\n",
    "\n",
    "history2 = TextCNN2.fit(train_X, train_y,\n",
    "                        batch_size = 32,\n",
    "                        epochs = 15,\n",
    "                        validation_data = (val_X, val_y),\n",
    "                        callbacks=[es, lr]\n",
    "                       )\n",
    "\n",
    "history3 = TextCNN3.fit(train_X, train_y,\n",
    "                        batch_size = 32,\n",
    "                        epochs = 15,\n",
    "                        validation_data = (val_X, val_y),\n",
    "                        callbacks=[es, lr]\n",
    "                       )\n"
   ]
  },
  {
   "cell_type": "code",
   "execution_count": 12,
   "id": "6fcc26f8-e029-4846-8ade-9c1c50d07b5c",
   "metadata": {},
   "outputs": [
    {
     "name": "stdout",
     "output_type": "stream",
     "text": [
      "584/584 [==============================] - 1s 2ms/step\n",
      "584/584 [==============================] - 1s 2ms/step\n",
      "584/584 [==============================] - 1s 2ms/step\n",
      "147/147 [==============================] - 0s 2ms/step\n",
      "147/147 [==============================] - 0s 2ms/step\n",
      "147/147 [==============================] - 0s 2ms/step\n"
     ]
    }
   ],
   "source": [
    "pred_train1 = TextCNN1.predict(train_X)\n",
    "pred_train2 = TextCNN2.predict(train_X)\n",
    "pred_train3 = TextCNN3.predict(train_X)\n",
    "meta_train = np.concatenate([pred_train1, pred_train2, pred_train3], axis=1)\n",
    "\n",
    "pred_val1 = TextCNN1.predict(val_X)\n",
    "pred_val2 = TextCNN2.predict(val_X)\n",
    "pred_val3 = TextCNN3.predict(val_X)\n",
    "meta_val = np.concatenate([pred_val1, pred_val2, pred_val3], axis=1)"
   ]
  },
  {
   "cell_type": "code",
   "execution_count": 13,
   "id": "2ab23db3-4304-463c-be83-394105799838",
   "metadata": {
    "scrolled": true
   },
   "outputs": [
    {
     "name": "stdout",
     "output_type": "stream",
     "text": [
      "[[1.50052449e-06 2.42137844e-06 6.52112067e-06 9.99989271e-01\n",
      "  2.40631522e-07 4.09465110e-06 2.51943275e-05 7.82439820e-05\n",
      "  9.99084234e-01 8.08221637e-04 1.16810725e-05 2.46750260e-05\n",
      "  7.14911539e-06 9.99933481e-01 2.30572568e-05]]\n",
      "15\n",
      "[3]\n"
     ]
    }
   ],
   "source": [
    "print(meta_train[:1])\n",
    "print(meta_train.shape[1])\n",
    "print(train_y[:1])"
   ]
  },
  {
   "cell_type": "code",
   "execution_count": 14,
   "id": "8c5254a4-8175-48bc-a347-131e12c33cb6",
   "metadata": {
    "scrolled": true
   },
   "outputs": [
    {
     "name": "stdout",
     "output_type": "stream",
     "text": [
      "Epoch 1/15\n",
      "292/292 [==============================] - 3s 7ms/step - loss: 0.3699 - accuracy: 0.9902 - val_loss: 0.8157 - val_accuracy: 0.5057 - lr: 0.0050\n",
      "Epoch 2/15\n",
      "292/292 [==============================] - 2s 7ms/step - loss: 0.0786 - accuracy: 0.9976 - val_loss: 0.2212 - val_accuracy: 0.9827 - lr: 0.0050\n",
      "Epoch 3/15\n",
      "292/292 [==============================] - 2s 7ms/step - loss: 0.1015 - accuracy: 0.9974 - val_loss: 0.1844 - val_accuracy: 0.9910 - lr: 0.0050\n",
      "Epoch 4/15\n",
      "292/292 [==============================] - 2s 7ms/step - loss: 0.1147 - accuracy: 0.9982 - val_loss: 0.1939 - val_accuracy: 0.9760 - lr: 0.0050\n",
      "Epoch 5/15\n",
      "292/292 [==============================] - 2s 7ms/step - loss: 0.1457 - accuracy: 0.9965 - val_loss: 20.7138 - val_accuracy: 0.3514 - lr: 0.0050\n"
     ]
    },
    {
     "data": {
      "text/plain": [
       "<keras.callbacks.History at 0x1a9b06cd7b0>"
      ]
     },
     "execution_count": 14,
     "metadata": {},
     "output_type": "execute_result"
    }
   ],
   "source": [
    "# 메타 모델\n",
    "meta_model = Sequential()\n",
    "\n",
    "meta_model.add(Dense(128, activation='gelu', input_shape=(15,), kernel_regularizer=regularizers.l2(0.01)))\n",
    "meta_model.add(BatchNormalization())\n",
    "meta_model.add(Dropout(0.4))\n",
    "meta_model.add(Dense(64, activation='gelu', kernel_regularizer=regularizers.l2(0.01)))\n",
    "meta_model.add(BatchNormalization())\n",
    "meta_model.add(Dropout(0.4))\n",
    "meta_model.add(Dense(32, activation='gelu', kernel_regularizer=regularizers.l2(0.01)))\n",
    "meta_model.add(BatchNormalization())\n",
    "meta_model.add(Dropout(0.4))\n",
    "meta_model.add(Dense(5, activation='softmax'))\n",
    "\n",
    "meta_model.compile(loss='sparse_categorical_crossentropy', optimizer=Adam(learning_rate=0.005), metrics=['accuracy'])\n",
    "\n",
    "# Stacking 학습\n",
    "meta_model.fit(meta_train, train_y,\n",
    "               validation_data=(meta_val, val_y),\n",
    "               epochs=15,\n",
    "               batch_size=64,\n",
    "               callbacks=[es, lr]\n",
    "              )\n"
   ]
  },
  {
   "cell_type": "code",
   "execution_count": 15,
   "id": "9766475e-6923-42b1-b984-3edeaf8f90e7",
   "metadata": {},
   "outputs": [
    {
     "name": "stdout",
     "output_type": "stream",
     "text": [
      "147/147 [==============================] - 0s 2ms/step\n"
     ]
    }
   ],
   "source": [
    "# 검증 데이터 예측\n",
    "val_preds = meta_model.predict(meta_val)\n",
    "val_preds_classes = np.argmax(val_preds, axis=1)\n"
   ]
  },
  {
   "cell_type": "code",
   "execution_count": 16,
   "id": "9a7ab4e6-9559-4566-b7ca-2d74428607b6",
   "metadata": {},
   "outputs": [
    {
     "name": "stdout",
     "output_type": "stream",
     "text": [
      "Weighted F1-score: 0.9910\n"
     ]
    }
   ],
   "source": [
    "from sklearn.metrics import f1_score\n",
    "\n",
    "f1 = f1_score(val_y, val_preds_classes, average=\"weighted\")  # weighted F1-score\n",
    "print(f\"Weighted F1-score: {f1:.4f}\")"
   ]
  },
  {
   "cell_type": "code",
   "execution_count": 17,
   "id": "47a909ed-acfa-42eb-8f32-bdc3503bc3bf",
   "metadata": {
    "scrolled": true
   },
   "outputs": [
    {
     "name": "stdout",
     "output_type": "stream",
     "text": [
      "              precision    recall  f1-score   support\n",
      "\n",
      "     Class 0       0.98      0.96      0.97       511\n",
      "     Class 1       0.99      0.99      0.99       608\n",
      "     Class 2       1.00      0.99      0.99       577\n",
      "     Class 3       0.97      0.98      0.98       614\n",
      "     Class 4       1.00      1.00      1.00      2363\n",
      "\n",
      "    accuracy                           0.99      4673\n",
      "   macro avg       0.99      0.99      0.99      4673\n",
      "weighted avg       0.99      0.99      0.99      4673\n",
      "\n"
     ]
    }
   ],
   "source": [
    "report = classification_report(val_y, val_preds_classes, target_names=[f\"Class {i}\" for i in range(5)])\n",
    "print(report)"
   ]
  },
  {
   "cell_type": "code",
   "execution_count": 18,
   "id": "68d45815-51b1-4520-b91f-1c10f13aa1d7",
   "metadata": {},
   "outputs": [
    {
     "data": {
      "image/png": "[encoded data removed]",
      "text/plain": [
       "<Figure size 600x500 with 2 Axes>"
      ]
     },
     "metadata": {},
     "output_type": "display_data"
    }
   ],
   "source": [
    "# Confusion Matrix 계산\n",
    "cm = confusion_matrix(val_y, val_preds_classes)\n",
    "\n",
    "# Confusion Matrix 시각화\n",
    "plt.figure(figsize=(6,5))\n",
    "sns.heatmap(cm, annot=True, fmt='d', cmap='Blues', xticklabels=[f\"Class {i}\" for i in range(5)], yticklabels=[f\"Class {i}\" for i in range(5)])\n",
    "plt.xlabel(\"Predicted Label\")\n",
    "plt.ylabel(\"True Label\")\n",
    "plt.title(\"Confusion Matrix\")\n",
    "plt.show()\n"
   ]
  },
  {
   "cell_type": "code",
   "execution_count": 19,
   "id": "dc767240-d69c-4107-ab29-38bb86c8623d",
   "metadata": {},
   "outputs": [
    {
     "name": "stdout",
     "output_type": "stream",
     "text": [
      "Class 0: 511개\n",
      "Class 1: 608개\n",
      "Class 2: 577개\n",
      "Class 3: 614개\n",
      "Class 4: 2363개\n"
     ]
    }
   ],
   "source": [
    "# val_y의 각 클래스 개수 출력\n",
    "unique_classes, class_counts = np.unique(val_y, return_counts=True)\n",
    "\n",
    "# 결과 출력\n",
    "for cls, count in zip(unique_classes, class_counts):\n",
    "    print(f\"Class {cls}: {count}개\")\n"
   ]
  },
  {
   "cell_type": "code",
   "execution_count": 20,
   "id": "0909abec-1912-4885-8cb1-9474a4c58c2f",
   "metadata": {},
   "outputs": [],
   "source": [
    "test_df = pd.read_csv(\"C:/Users/양자/Desktop/Hun_Works/AIFFEL_DLthon/DLThon01/CHYeom/data/test.csv\")"
   ]
  },
  {
   "cell_type": "code",
   "execution_count": 21,
   "id": "ce1eab90-1cec-4876-a326-38b9c81834ae",
   "metadata": {},
   "outputs": [
    {
     "name": "stdout",
     "output_type": "stream",
     "text": [
      "Test 데이터 Shape: 500\n"
     ]
    }
   ],
   "source": [
    "test_texts = test_df['text'].tolist()  # 테스트 데이터의 텍스트 추출\n",
    "tokenized_test = [okt.morphs(sentence) for sentence in test_texts]  # 형태소 분석 적용\n",
    "test_X = tokenizer.texts_to_sequences(tokenized_test)  # 기존에 학습된 Tokenizer를 사용해 정수 인덱스로 변환\n",
    "test_X = pad_sequences(test_X, maxlen=max_len, padding='pre')\n",
    "\n",
    "print(\"Test 데이터 Shape:\", len(test_X))  # (샘플 수, max_len)"
   ]
  },
  {
   "cell_type": "code",
   "execution_count": 22,
   "id": "b34a3d5b-be6e-4204-a4c7-182edf0d5a26",
   "metadata": {},
   "outputs": [
    {
     "name": "stdout",
     "output_type": "stream",
     "text": [
      "16/16 [==============================] - 0s 9ms/step\n",
      "16/16 [==============================] - 0s 8ms/step\n",
      "16/16 [==============================] - 0s 8ms/step\n"
     ]
    }
   ],
   "source": [
    "pred_test1 = TextCNN1.predict(test_X)\n",
    "pred_test2 = TextCNN2.predict(test_X)\n",
    "pred_test3 = TextCNN3.predict(test_X)\n",
    "\n",
    "meta_test = np.concatenate([pred_test1, pred_test2, pred_test3], axis=1)"
   ]
  },
  {
   "cell_type": "code",
   "execution_count": 23,
   "id": "b0f469d6-9ebf-4d06-9889-b15e26ffb4cd",
   "metadata": {},
   "outputs": [
    {
     "name": "stdout",
     "output_type": "stream",
     "text": [
      "16/16 [==============================] - 0s 2ms/step\n"
     ]
    }
   ],
   "source": [
    "test_pred = meta_model.predict(meta_test)"
   ]
  },
  {
   "cell_type": "code",
   "execution_count": 24,
   "id": "851c5a09-f5f1-49fb-95f7-45f3e763d0a4",
   "metadata": {},
   "outputs": [
    {
     "name": "stdout",
     "output_type": "stream",
     "text": [
      "500\n"
     ]
    }
   ],
   "source": [
    "print(len(test_pred))"
   ]
  },
  {
   "cell_type": "code",
   "execution_count": 25,
   "id": "293a1d35-3a70-4e22-ac8b-263f81c70888",
   "metadata": {
    "scrolled": true
   },
   "outputs": [
    {
     "data": {
      "text/plain": [
       "array([1.6898110e-05, 4.5932690e-04, 2.3256540e-05, 9.9948335e-01,\n",
       "       1.7116403e-05], dtype=float32)"
      ]
     },
     "execution_count": 25,
     "metadata": {},
     "output_type": "execute_result"
    }
   ],
   "source": [
    "test_pred[0]"
   ]
  },
  {
   "cell_type": "code",
   "execution_count": 26,
   "id": "cdefd8a3-32b3-4d4f-84ba-b7a0c92c0db1",
   "metadata": {},
   "outputs": [],
   "source": [
    "test_pred_labels = np.argmax(test_pred,axis=1)"
   ]
  },
  {
   "cell_type": "code",
   "execution_count": 27,
   "id": "80798346-6975-44e0-94f8-2bc7e020765e",
   "metadata": {},
   "outputs": [
    {
     "data": {
      "text/plain": [
       "array([3, 2, 2, 4, 4, 0, 2, 1, 4, 1, 0, 3, 2, 2, 2, 0, 4, 3, 0, 3],\n",
       "      dtype=int64)"
      ]
     },
     "execution_count": 27,
     "metadata": {},
     "output_type": "execute_result"
    }
   ],
   "source": [
    "test_pred_labels[:20]"
   ]
  },
  {
   "cell_type": "code",
   "execution_count": 28,
   "id": "7ed6e76c-cfcc-467e-9c52-d04b532507ae",
   "metadata": {},
   "outputs": [
    {
     "name": "stdout",
     "output_type": "stream",
     "text": [
      "     idx  target\n",
      "0  t_000       3\n",
      "1  t_001       2\n",
      "2  t_002       2\n",
      "3  t_003       4\n",
      "4  t_004       4\n",
      "5  t_005       0\n",
      "6  t_006       2\n",
      "7  t_007       1\n",
      "8  t_008       4\n",
      "9  t_009       1\n",
      "CSV 저장 완료: submission_textcnn.csv\n"
     ]
    }
   ],
   "source": [
    "# 인덱스 열 생성 (t_000 ~ t_499)\n",
    "idx_column = [f\"t_{i:03d}\" for i in range(len(test_pred_labels))]\n",
    "\n",
    "# DataFrame 생성\n",
    "submission_df = pd.DataFrame({\n",
    "    \"idx\": idx_column,\n",
    "    \"target\": test_pred_labels\n",
    "})\n",
    "\n",
    "# 확인\n",
    "print(submission_df.head(10))  # 상위 10개 출력\n",
    "\n",
    "# CSV로 저장\n",
    "submission_df.to_csv(\"submission_textcnn.csv\", index=False)\n",
    "\n",
    "print(\"CSV 저장 완료: submission_textcnn.csv\")\n"
   ]
  },
  {
   "cell_type": "code",
   "execution_count": 29,
   "id": "4f47a303-4325-4282-806f-9052a5720be3",
   "metadata": {},
   "outputs": [
    {
     "name": "stdout",
     "output_type": "stream",
     "text": [
      "target\n",
      "0     87\n",
      "1    110\n",
      "2    109\n",
      "3    138\n",
      "4     56\n",
      "Name: count, dtype: int64\n"
     ]
    }
   ],
   "source": [
    "# 클래스 개수 확인\n",
    "class_distribution = pd.Series(submission_df['target']).value_counts().sort_index()\n",
    "print(class_distribution)\n"
   ]
  },
  {
   "cell_type": "code",
   "execution_count": null,
   "id": "bb55b20e-bca7-4e89-8f81-cace43cf6249",
   "metadata": {},
   "outputs": [],
   "source": []
  }
 ],
 "metadata": {
  "kernelspec": {
   "display_name": "Python 3 (ipykernel)",
   "language": "python",
   "name": "python3"
  },
  "language_info": {
   "codemirror_mode": {
    "name": "ipython",
    "version": 3
   },
   "file_extension": ".py",
   "mimetype": "text/x-python",
   "name": "python",
   "nbconvert_exporter": "python",
   "pygments_lexer": "ipython3",
   "version": "3.10.12"
  }
 },
 "nbformat": 4,
 "nbformat_minor": 5
}
